{
 "cells": [
  {
   "cell_type": "code",
   "execution_count": 52,
   "metadata": {},
   "outputs": [],
   "source": [
    "using MLDatasets\n",
    "using Random, Distributions, LinearAlgebra\n",
    "using Images"
   ]
  },
  {
   "cell_type": "markdown",
   "metadata": {},
   "source": [
    "# Linear Networks for image Classification"
   ]
  },
  {
   "cell_type": "code",
   "execution_count": 44,
   "metadata": {},
   "outputs": [
    {
     "data": {
      "text/plain": [
       "to_pix (generic function with 1 method)"
      ]
     },
     "metadata": {},
     "output_type": "display_data"
    }
   ],
   "source": [
    "function to_pix(x)\n",
    "    return RGB(x, x ,x)\n",
    "end"
   ]
  },
  {
   "cell_type": "code",
   "execution_count": 45,
   "metadata": {},
   "outputs": [
    {
     "data": {
      "text/plain": [
       "(28, 28, 60000)"
      ]
     },
     "metadata": {},
     "output_type": "display_data"
    }
   ],
   "source": [
    "data, label = MLDatasets.MNIST.traindata()\n",
    "# Dimenstions\n",
    "n, m, v = size(data)"
   ]
  },
  {
   "cell_type": "markdown",
   "metadata": {},
   "source": [
    "## A multinomial logistic regression for classification\n",
    "### Softmax Regression \n",
    "we'll use a model that using multiple inputs of different layers / classes, each of them in this case will be an affine function of form\n",
    "$$\n",
    "p_1(x) = w_1 x_1\n",
    "$$\n",
    "our model output o1 consists of many affine functions with paramaters, this yields the network a better understanding\n",
    "$$\n",
    "O_1 = x_1 w_{11} + x_2 w_{12} + x_3 w_{13} + x_4 w_{14} + b_1,\\\\\n",
    "O_2 = x_1 w_{21} + x_2 w_{22} + x_3 w_{23} + x_4 w_{24} + b_2,\\\\\n",
    "O_3 = x_1 w_{31} + x_2 w_{32} + x_3 w_{33} + x_4 w_{34} + b_3.\n",
    "$$\n",
    "\n",
    "TODO: FINISH THIS"
   ]
  },
  {
   "cell_type": "code",
   "execution_count": null,
   "metadata": {},
   "outputs": [],
   "source": [
    "train_num = 500\n",
    "test_num = 500"
   ]
  },
  {
   "cell_type": "code",
   "execution_count": 53,
   "metadata": {},
   "outputs": [
    {
     "ename": "ErrorException",
     "evalue": "adjoint not defined for Array{N0f8, 3}. Consider using `permutedims` for higher-dimensional arrays.",
     "output_type": "error",
     "traceback": [
      "adjoint not defined for Array{N0f8, 3}. Consider using `permutedims` for higher-dimensional arrays.\n",
      "\n",
      "Stacktrace:\n",
      " [1] error(s::String)\n",
      "   @ Base ./error.jl:33\n",
      " [2] adjoint(a::Array{N0f8, 3})\n",
      "   @ LinearAlgebra /opt/julia-1.7.1/share/julia/stdlib/v1.7/LinearAlgebra/src/transpose.jl:3\n",
      " [3] top-level scope\n",
      "   @ ~/ws/jlws/Linear-Neural-Classification/image-class.ipynb:5"
     ]
    }
   ],
   "source": [
    "train_y = label\n",
    "train_x = reshape(data, (28, 28, :))\n",
    "a = train_x[:, :, 1]\n",
    "\n",
    "t = to_pix.(a')"
   ]
  },
  {
   "cell_type": "markdown",
   "metadata": {},
   "source": [
    "#### Feedforward neural network"
   ]
  },
  {
   "cell_type": "code",
   "execution_count": 51,
   "metadata": {},
   "outputs": [
    {
     "ename": "ErrorException",
     "evalue": "syntax: incomplete: premature end of input",
     "output_type": "error",
     "traceback": [
      "syntax: incomplete: premature end of input\n",
      "\n",
      "Stacktrace:\n",
      " [1] top-level scope\n",
      "   @ ~/ws/jlws/Linear-Neural-Classification/image-class.ipynb:1"
     ]
    }
   ],
   "source": [
    "function init_param()\n",
    "    w1 = \n",
    "end"
   ]
  },
  {
   "cell_type": "code",
   "execution_count": null,
   "metadata": {},
   "outputs": [],
   "source": []
  }
 ],
 "metadata": {
  "kernelspec": {
   "display_name": "Julia 1.7.1",
   "language": "julia",
   "name": "julia-1.7"
  },
  "language_info": {
   "file_extension": ".jl",
   "mimetype": "application/julia",
   "name": "julia",
   "version": "1.7.1"
  },
  "orig_nbformat": 4
 },
 "nbformat": 4,
 "nbformat_minor": 2
}
